{
 "cells": [
  {
   "cell_type": "markdown",
   "id": "82a43bc9-5339-4fa2-a7b4-e3ad0bc7a54a",
   "metadata": {},
   "source": [
    "# Image-to-Video synthesis with AnimateAnyone and OpenVINO\n",
    "![](./animate-anyone.gif)\n",
    "\n",
    "[AnimateAnyone](https://arxiv.org/pdf/2311.17117.pdf) tackles the task of generating animation sequences from a single character image. It builds upon diffusion models pre-trained on vast character image datasets.\n",
    "\n",
    "The core of AnimateAnyone is a diffusion model pre-trained on a massive dataset of character images. This model learns the underlying character representation and distribution, allowing for realistic and diverse character animation.\n",
    "To capture the specific details and characteristics of the input character image, AnimateAnyone incorporates a ReferenceNet module. This module acts like an attention mechanism, focusing on the input image and guiding the animation process to stay consistent with the original character's appearance. AnimateAnyone enables control over the character's pose during animation. This might involve using techniques like parametric pose embedding or direct pose vector input, allowing for the creation of various character actions and movements. To ensure smooth transitions and temporal coherence throughout the animation sequence, AnimateAnyone incorporates temporal modeling techniques. This may involve recurrent architectures like LSTMs or transformers that capture the temporal dependencies between video frames.\n",
    "\n",
    "Overall, AnimateAnyone combines a powerful pre-trained diffusion model with a character-specific attention mechanism (ReferenceNet), pose guidance, and temporal modeling to achieve controllable, high-fidelity character animation from a single image.\n",
    "\n",
    "Learn more in [GitHub repo](https://github.com/MooreThreads/Moore-AnimateAnyone) and [paper](https://arxiv.org/pdf/2311.17117.pdf).\n",
    "\n",
    "<div class=\"alert alert-warning\">\n",
    "    <p style=\"font-size:1.25em\"><b>! WARNING !</b></p>\n",
    "    <p>\n",
    "        This tutorial requires at least <b>96 GB</b> of RAM for model conversion and <b>70 GB</b> for inference. Changing the values of <code>HEIGHT</code>, <code>WIDTH</code> and <code>VIDEO_LENGTH</code> variables will change the memory consumption but will also affect accuracy.\n",
    "    </p>\n",
    "</div>\n",
    "\n",
    "#### Table of contents:\n",
    "\n",
    "- [Prerequisites](#Prerequisites)\n",
    "- [Prepare base model](#Prepare-base-model)\n",
    "- [Prepare image encoder](#Prepare-image-encoder)\n",
    "- [Download weights](#Download-weights)\n",
    "- [Initialize models](#Initialize-models)\n",
    "- [Load pretrained weights](#Load-pretrained-weights)\n",
    "- [Convert model to OpenVINO IR](#Convert-model-to-OpenVINO-IR)\n",
    "    - [VAE](#VAE)\n",
    "    - [Reference UNet](#Reference-UNet)\n",
    "    - [Denoising UNet](#Denoising-UNet)\n",
    "    - [Pose Guider](#Pose-Guider)\n",
    "    - [Image Encoder](#Image-Encoder)\n",
    "- [Inference](#Inference)\n",
    "- [Video post-processing](#Video-post-processing)\n",
    "- [Interactive inference](#Interactive-inference)"
   ]
  },
  {
   "cell_type": "markdown",
   "id": "33e0d739-01c9-4a16-873c-2fccc046d3a9",
   "metadata": {},
   "source": [
    "## Prerequisites\n",
    "[back to top ⬆️](#Table-of-contents:)"
   ]
  },
  {
   "cell_type": "code",
   "execution_count": 1,
   "id": "eb8ce0dc-7e5d-4661-a7e7-378bb9e67994",
   "metadata": {
    "scrolled": true
   },
   "outputs": [
    {
     "name": "stdout",
     "output_type": "stream",
     "text": [
      "\u001b[33mDEPRECATION: torchsde 0.2.5 has a non-standard dependency specifier numpy>=1.19.*; python_version >= \"3.7\". pip 24.1 will enforce this behaviour change. A possible replacement is to upgrade to a newer version of torchsde or contact the author to suggest that they release a version with a conforming dependency specifiers. Discussion can be found at https://github.com/pypa/pip/issues/12063\u001b[0m\u001b[33m\n",
      "\u001b[0mNote: you may need to restart the kernel to use updated packages.\n",
      "\u001b[33mDEPRECATION: torchsde 0.2.5 has a non-standard dependency specifier numpy>=1.19.*; python_version >= \"3.7\". pip 24.1 will enforce this behaviour change. A possible replacement is to upgrade to a newer version of torchsde or contact the author to suggest that they release a version with a conforming dependency specifiers. Discussion can be found at https://github.com/pypa/pip/issues/12063\u001b[0m\u001b[33m\n",
      "\u001b[0mNote: you may need to restart the kernel to use updated packages.\n"
     ]
    }
   ],
   "source": [
    "from pathlib import Path\n",
    "import urllib\n",
    "\n",
    "\n",
    "REPO_PATH = Path(\"Moore-AnimateAnyone\")\n",
    "if not REPO_PATH.exists():\n",
    "    !git clone -q \"https://github.com/itrushkin/Moore-AnimateAnyone.git\" -b removing_bank\n",
    "%pip install -q -r \"Moore-AnimateAnyone/requirements.txt\" --extra-index-url \"https://download.pytorch.org/whl/cpu\"\n",
    "%pip install -q \"openvino>=2024.0\" gradio\n",
    "import sys\n",
    "sys.path.insert(0, str(REPO_PATH.resolve()))\n",
    "urllib.request.urlretrieve(\n",
    "    url='https://raw.githubusercontent.com/openvinotoolkit/openvino_notebooks/main/notebooks/utils/skip_kernel_extension.py',\n",
    "    filename='skip_kernel_extension.py'\n",
    ")\n",
    "%load_ext skip_kernel_extension"
   ]
  },
  {
   "cell_type": "markdown",
   "id": "9f595c7b-1fdb-4a1e-970d-ad5334e47d5c",
   "metadata": {},
   "source": [
    "Note that we clone a fork of original repo with tweaked forward methods."
   ]
  },
  {
   "cell_type": "code",
   "execution_count": 2,
   "id": "a2e1b26e-9142-47fa-a15e-5930ef8f306e",
   "metadata": {},
   "outputs": [],
   "source": [
    "MODEL_DIR = Path(\"models\")\n",
    "VAE_ENCODER_PATH = MODEL_DIR / \"vae_encoder.xml\"\n",
    "VAE_DECODER_PATH = MODEL_DIR / \"vae_decoder.xml\"\n",
    "REFERENCE_UNET_PATH = MODEL_DIR / \"reference_unet.xml\"\n",
    "DENOISING_UNET_PATH = MODEL_DIR / \"denoising_unet.xml\"\n",
    "POSE_GUIDER_PATH = MODEL_DIR / \"pose_guider.xml\"\n",
    "IMAGE_ENCODER_PATH = MODEL_DIR / \"image_encoder.xml\"\n",
    "\n",
    "WIDTH = 448\n",
    "HEIGHT = 512\n",
    "VIDEO_LENGTH = 24\n",
    "\n",
    "SHOULD_CONVERT = not all(p.exists() for p in [\n",
    "    VAE_ENCODER_PATH,\n",
    "    VAE_DECODER_PATH,\n",
    "    REFERENCE_UNET_PATH,\n",
    "    DENOISING_UNET_PATH,\n",
    "    POSE_GUIDER_PATH,\n",
    "    IMAGE_ENCODER_PATH\n",
    "])"
   ]
  },
  {
   "cell_type": "code",
   "execution_count": 3,
   "id": "917e01b7-43bc-4358-8752-cc862bd74758",
   "metadata": {},
   "outputs": [
    {
     "name": "stderr",
     "output_type": "stream",
     "text": [
      "WARNING[XFORMERS]: xFormers can't load C++/CUDA extensions. xFormers was built for:\n",
      "    PyTorch 2.0.1+cu118 with CUDA 1108 (you have 2.0.1+cpu)\n",
      "    Python  3.9.18 (you have 3.9.5)\n",
      "  Please reinstall xformers (see https://github.com/facebookresearch/xformers#installing-xformers)\n",
      "  Memory-efficient attention, SwiGLU, sparse and more won't be available.\n",
      "  Set XFORMERS_MORE_DETAILS=1 for more details\n"
     ]
    }
   ],
   "source": [
    "import os\n",
    "from datetime import datetime\n",
    "from typing import Optional, Union, List, Callable\n",
    "import math\n",
    "\n",
    "from PIL import Image\n",
    "import openvino as ov\n",
    "from torchvision import transforms\n",
    "from einops import repeat\n",
    "from tqdm.auto import tqdm\n",
    "from einops import rearrange\n",
    "from omegaconf import OmegaConf\n",
    "from diffusers import DDIMScheduler\n",
    "from diffusers.image_processor import VaeImageProcessor\n",
    "from transformers import CLIPImageProcessor\n",
    "import torch\n",
    "import gradio as gr\n",
    "import ipywidgets\n",
    "import numpy as np\n",
    "\n",
    "from src.pipelines.pipeline_pose2vid_long import Pose2VideoPipeline\n",
    "from src.utils.util import get_fps, read_frames\n",
    "from src.utils.util import save_videos_grid\n",
    "from src.pipelines.context import get_context_scheduler"
   ]
  },
  {
   "cell_type": "code",
   "execution_count": 4,
   "id": "4bcfe74c-1caf-404b-89c9-466c60e19aa7",
   "metadata": {},
   "outputs": [
    {
     "name": "stdout",
     "output_type": "stream",
     "text": [
      "INFO:nncf:NNCF initialized successfully. Supported frameworks detected: torch, openvino\n"
     ]
    }
   ],
   "source": [
    "%%skip not $SHOULD_CONVERT\n",
    "from pathlib import PurePosixPath\n",
    "import gc\n",
    "import warnings\n",
    "\n",
    "from typing import Dict, Any\n",
    "from diffusers import AutoencoderKL\n",
    "from huggingface_hub import hf_hub_download, snapshot_download\n",
    "from transformers import CLIPVisionModelWithProjection\n",
    "\n",
    "from src.models.unet_2d_condition import UNet2DConditionModel\n",
    "from src.models.unet_3d import UNet3DConditionModel\n",
    "from src.models.pose_guider import PoseGuider"
   ]
  },
  {
   "cell_type": "markdown",
   "id": "dfc4d86e-fe72-48b1-9af7-6b428935fe3a",
   "metadata": {},
   "source": [
    "## Prepare base model\n",
    "[back to top ⬆️](#Table-of-contents:)"
   ]
  },
  {
   "cell_type": "code",
   "execution_count": 5,
   "id": "ff7caead-ad5c-421f-8177-6afcbd4cde54",
   "metadata": {},
   "outputs": [],
   "source": [
    "%%skip not $SHOULD_CONVERT\n",
    "local_dir = \"./pretrained_weights/stable-diffusion-v1-5\"\n",
    "os.makedirs(local_dir, exist_ok=True)\n",
    "for hub_file in [\"unet/config.json\", \"unet/diffusion_pytorch_model.bin\"]:\n",
    "    path = Path(hub_file)\n",
    "    saved_path = local_dir / path\n",
    "    if os.path.exists(saved_path):\n",
    "        continue\n",
    "    hf_hub_download(\n",
    "        repo_id=\"runwayml/stable-diffusion-v1-5\",\n",
    "        subfolder=PurePosixPath(path.parent),\n",
    "        filename=PurePosixPath(path.name),\n",
    "        local_dir=local_dir,\n",
    "    )"
   ]
  },
  {
   "cell_type": "markdown",
   "id": "30022dee-d76a-4eba-8652-620ecde4a2f1",
   "metadata": {},
   "source": [
    "## Prepare image encoder\n",
    "[back to top ⬆️](#Table-of-contents:)"
   ]
  },
  {
   "cell_type": "code",
   "execution_count": 6,
   "id": "a50a8216-4edd-4237-bee4-e07b33758644",
   "metadata": {},
   "outputs": [],
   "source": [
    "%%skip not $SHOULD_CONVERT\n",
    "local_dir = \"./pretrained_weights\"\n",
    "os.makedirs(local_dir, exist_ok=True)\n",
    "for hub_file in [\"image_encoder/config.json\", \"image_encoder/pytorch_model.bin\"]:\n",
    "    path = Path(hub_file)\n",
    "    saved_path = local_dir / path\n",
    "    if os.path.exists(saved_path):\n",
    "        continue\n",
    "    hf_hub_download(\n",
    "        repo_id=\"lambdalabs/sd-image-variations-diffusers\",\n",
    "        subfolder=PurePosixPath(path.parent),\n",
    "        filename=PurePosixPath(path.name),\n",
    "        local_dir=local_dir,\n",
    "    )"
   ]
  },
  {
   "cell_type": "markdown",
   "id": "daed8698-c76a-4b59-aa13-165749c6a0db",
   "metadata": {},
   "source": [
    "## Download weights\n",
    "[back to top ⬆️](#Table-of-contents:)"
   ]
  },
  {
   "cell_type": "code",
   "execution_count": 7,
   "id": "c5013395-295a-4c7c-8302-2459c343de65",
   "metadata": {},
   "outputs": [
    {
     "data": {
      "application/vnd.jupyter.widget-view+json": {
       "model_id": "4045ef358f1e4bbea93919ce15cff43a",
       "version_major": 2,
       "version_minor": 0
      },
      "text/plain": [
       "Fetching 5 files:   0%|          | 0/5 [00:00<?, ?it/s]"
      ]
     },
     "metadata": {},
     "output_type": "display_data"
    },
    {
     "data": {
      "application/vnd.jupyter.widget-view+json": {
       "model_id": "638c843a8390445b998d66af98605a36",
       "version_major": 2,
       "version_minor": 0
      },
      "text/plain": [
       "Fetching 6 files:   0%|          | 0/6 [00:00<?, ?it/s]"
      ]
     },
     "metadata": {},
     "output_type": "display_data"
    }
   ],
   "source": [
    "%%skip not $SHOULD_CONVERT\n",
    "snapshot_download(\n",
    "    repo_id=\"stabilityai/sd-vae-ft-mse\", local_dir=\"./pretrained_weights/sd-vae-ft-mse\"\n",
    ")\n",
    "snapshot_download(\n",
    "    repo_id=\"patrolli/AnimateAnyone\",\n",
    "    local_dir=\"./pretrained_weights\",\n",
    ")"
   ]
  },
  {
   "cell_type": "code",
   "execution_count": 8,
   "id": "d7993cfc-bda1-4041-959c-44a7c9a60b33",
   "metadata": {},
   "outputs": [],
   "source": [
    "config = OmegaConf.load(\"Moore-AnimateAnyone/configs/prompts/animation.yaml\")\n",
    "infer_config = OmegaConf.load(\"Moore-AnimateAnyone/\" + config.inference_config)"
   ]
  },
  {
   "cell_type": "markdown",
   "id": "3d0cfb91-cfb7-4348-b249-3b926741db4d",
   "metadata": {},
   "source": [
    "## Initialize models\n",
    "[back to top ⬆️](#Table-of-contents:)"
   ]
  },
  {
   "cell_type": "code",
   "execution_count": 9,
   "id": "8e2ab6ea-7f9b-4e23-a99b-9bb2477c951d",
   "metadata": {},
   "outputs": [
    {
     "name": "stderr",
     "output_type": "stream",
     "text": [
      "Some weights of the model checkpoint were not used when initializing UNet2DConditionModel: \n",
      " ['conv_norm_out.weight, conv_norm_out.bias, conv_out.weight, conv_out.bias']\n",
      "/home/itrushkin/.virtualenvs/openvino_notebooks/lib/python3.9/site-packages/torch/_utils.py:776: UserWarning: TypedStorage is deprecated. It will be removed in the future and UntypedStorage will be the only storage class. This should only matter to you if you are using storages directly.  To access UntypedStorage directly, use tensor.untyped_storage() instead of tensor.storage()\n",
      "  return self.fget.__get__(instance, owner)()\n"
     ]
    }
   ],
   "source": [
    "%%skip not $SHOULD_CONVERT\n",
    "vae = AutoencoderKL.from_pretrained(config.pretrained_vae_path)\n",
    "reference_unet = UNet2DConditionModel.from_pretrained(config.pretrained_base_model_path, subfolder=\"unet\")\n",
    "denoising_unet = UNet3DConditionModel.from_pretrained_2d(\n",
    "    config.pretrained_base_model_path,\n",
    "    config.motion_module_path,\n",
    "    subfolder=\"unet\",\n",
    "    unet_additional_kwargs=infer_config.unet_additional_kwargs,\n",
    ")\n",
    "pose_guider = PoseGuider(320, block_out_channels=(16, 32, 96, 256))\n",
    "image_enc = CLIPVisionModelWithProjection.from_pretrained(config.image_encoder_path)\n",
    "\n",
    "\n",
    "NUM_CHANNELS_LATENTS = denoising_unet.config.in_channels"
   ]
  },
  {
   "cell_type": "markdown",
   "id": "27889f9f-5477-4058-bdc6-6ff273182ef4",
   "metadata": {},
   "source": [
    "## Load pretrained weights\n",
    "[back to top ⬆️](#Table-of-contents:)"
   ]
  },
  {
   "cell_type": "code",
   "execution_count": 10,
   "id": "099bf2d2-e8ab-4c67-b044-b87d65aba1aa",
   "metadata": {},
   "outputs": [],
   "source": [
    "%%skip not $SHOULD_CONVERT\n",
    "denoising_unet.load_state_dict(\n",
    "    torch.load(config.denoising_unet_path, map_location=\"cpu\"),\n",
    "    strict=False,\n",
    ")\n",
    "reference_unet.load_state_dict(\n",
    "    torch.load(config.reference_unet_path, map_location=\"cpu\"),\n",
    ")\n",
    "pose_guider.load_state_dict(\n",
    "    torch.load(config.pose_guider_path, map_location=\"cpu\"),\n",
    ")"
   ]
  },
  {
   "cell_type": "markdown",
   "id": "f4a42ed6-496f-48ea-8e24-482f68ff3500",
   "metadata": {},
   "source": [
    "## Convert model to OpenVINO IR\n",
    "[back to top ⬆️](#Table-of-contents:)\n",
    "The pose sequence is initially encoded using Pose Guider and fused with multi-frame noise, followed by the Denoising UNet conducting the denoising process for video generation. The computational block of the Denoising UNet consists of Spatial-Attention, Cross-Attention, and Temporal-Attention, as illustrated in the dashed box on the right. The integration of reference image involves two aspects. Firstly, detailed features are extracted through ReferenceNet and utilized for Spatial-Attention. Secondly, semantic features are extracted through the CLIP image encoder for Cross-Attention. Temporal-Attention operates in the temporal dimension. Finally, the VAE decoder decodes the result into a video clip.\n",
    "\n",
    "![](https://humanaigc.github.io/animate-anyone/static/images/f2_img.png)\n",
    "\n",
    "The pipeline contains 6 PyTorch modules:\n",
    " - VAE encoder\n",
    " - VAE decoder\n",
    " - Image encoder\n",
    " - Reference UNet\n",
    " - Denoising UNet\n",
    " - Pose Guider"
   ]
  },
  {
   "cell_type": "code",
   "execution_count": 11,
   "id": "d322cdc0-8b72-429a-a989-e0adf097a0c8",
   "metadata": {
    "editable": true,
    "slideshow": {
     "slide_type": ""
    },
    "tags": []
   },
   "outputs": [],
   "source": [
    "%%skip not $SHOULD_CONVERT\n",
    "def cleanup_torchscript_cache():\n",
    "    \"\"\"\n",
    "    Helper for removing cached model representation\n",
    "    \"\"\"\n",
    "    torch._C._jit_clear_class_registry()\n",
    "    torch.jit._recursive.concrete_type_store = torch.jit._recursive.ConcreteTypeStore()\n",
    "    torch.jit._state._clear_class_state()"
   ]
  },
  {
   "cell_type": "code",
   "execution_count": 12,
   "id": "507058de-9328-4de5-bf19-c68933cb9566",
   "metadata": {},
   "outputs": [],
   "source": [
    "%%skip not $SHOULD_CONVERT\n",
    "warnings.simplefilter(\"ignore\", torch.jit.TracerWarning)"
   ]
  },
  {
   "cell_type": "markdown",
   "id": "e0adf3a0-f60d-441c-a217-f2b9a79dcd07",
   "metadata": {},
   "source": [
    "### VAE\n",
    "[back to top ⬆️](#Table-of-contents:)\n",
    "\n",
    "The VAE model has two parts, an encoder and a decoder. The encoder is used to convert the image into a low dimensional latent representation, which will serve as the input to the U-Net model. The decoder, conversely, transforms the latent representation back into an image.\n",
    "\n",
    "During latent diffusion training, the encoder is used to get the latent representations (latents) of the images for the forward diffusion process, which applies more and more noise at each step. During inference, the denoised latents generated by the reverse diffusion process are converted back into images using the VAE decoder.\n",
    "\n",
    "As the encoder and the decoder are used independently in different parts of the pipeline, it will be better to convert them to separate models."
   ]
  },
  {
   "cell_type": "code",
   "execution_count": 13,
   "id": "58e53954-b9fd-4fbf-ba7f-8a5e269cf2dc",
   "metadata": {},
   "outputs": [
    {
     "name": "stdout",
     "output_type": "stream",
     "text": [
      "WARNING:nncf:NNCF provides best results with torch==2.1.2, while current torch version is 2.0.1+cpu. If you encounter issues, consider switching to torch==2.1.2\n"
     ]
    },
    {
     "name": "stderr",
     "output_type": "stream",
     "text": [
      "No CUDA runtime is found, using CUDA_HOME='/usr/local/cuda'\n",
      "WARNING:root:Failed to send event with the following error: <urlopen error EOF occurred in violation of protocol (_ssl.c:1129)>\n",
      "WARNING:root:Failed to send event with the following error: <urlopen error EOF occurred in violation of protocol (_ssl.c:1129)>\n",
      "WARNING:root:Failed to send event with the following error: <urlopen error EOF occurred in violation of protocol (_ssl.c:1129)>\n",
      "WARNING:root:Failed to send event with the following error: <urlopen error EOF occurred in violation of protocol (_ssl.c:1129)>\n",
      "WARNING:root:Failed to send event with the following error: <urlopen error EOF occurred in violation of protocol (_ssl.c:1129)>\n",
      "WARNING:root:Failed to send event with the following error: <urlopen error EOF occurred in violation of protocol (_ssl.c:1129)>\n",
      "WARNING:root:Failed to send event with the following error: <urlopen error EOF occurred in violation of protocol (_ssl.c:1129)>\n",
      "WARNING:root:Failed to send event with the following error: <urlopen error EOF occurred in violation of protocol (_ssl.c:1129)>\n",
      "WARNING:root:Failed to send event with the following error: <urlopen error EOF occurred in violation of protocol (_ssl.c:1129)>\n",
      "WARNING:root:Failed to send event with the following error: <urlopen error EOF occurred in violation of protocol (_ssl.c:1129)>\n",
      "WARNING:root:Failed to send event with the following error: <urlopen error EOF occurred in violation of protocol (_ssl.c:1129)>\n",
      "WARNING:root:Failed to send event with the following error: <urlopen error EOF occurred in violation of protocol (_ssl.c:1129)>\n"
     ]
    }
   ],
   "source": [
    "%%skip not $SHOULD_CONVERT\n",
    "if not VAE_ENCODER_PATH.exists():\n",
    "    class VaeEncoder(torch.nn.Module):\n",
    "        def __init__(self, vae):\n",
    "            super().__init__()\n",
    "            self.vae = vae\n",
    "    \n",
    "        def forward(self, x):\n",
    "            return self.vae.encode(x).latent_dist.mean\n",
    "    vae.eval()\n",
    "    with torch.no_grad():\n",
    "        vae_encoder = ov.convert_model(VaeEncoder(vae), example_input=torch.zeros(1,3,512,448))\n",
    "    ov.save_model(vae_encoder, VAE_ENCODER_PATH)\n",
    "    del vae_encoder\n",
    "    cleanup_torchscript_cache()"
   ]
  },
  {
   "cell_type": "code",
   "execution_count": 14,
   "id": "c8f87c8d-2538-478a-8f8f-7fa1f498dcb2",
   "metadata": {},
   "outputs": [],
   "source": [
    "%%skip not $SHOULD_CONVERT\n",
    "if not VAE_DECODER_PATH.exists():\n",
    "    class VaeDecoder(torch.nn.Module):\n",
    "        def __init__(self, vae):\n",
    "            super().__init__()\n",
    "            self.vae = vae\n",
    "    \n",
    "        def forward(self, z):\n",
    "            return self.vae.decode(z).sample\n",
    "    vae.eval()\n",
    "    with torch.no_grad():\n",
    "        vae_decoder = ov.convert_model(VaeDecoder(vae), example_input=torch.zeros(1,4,HEIGHT//8,WIDTH//8))\n",
    "    ov.save_model(vae_decoder, VAE_DECODER_PATH)\n",
    "    del vae_decoder\n",
    "    cleanup_torchscript_cache()\n",
    "del vae\n",
    "gc.collect()"
   ]
  },
  {
   "cell_type": "markdown",
   "id": "be82f4e8-0e1b-406a-93a2-d8c8c23c7797",
   "metadata": {},
   "source": [
    "### Reference UNet\n",
    "[back to top ⬆️](#Table-of-contents:)\n",
    "\n",
    "Pipeline extracts reference attention features from all transformer blocks inside Reference UNet model. We call the original forward pass to obtain shapes of the outputs as they will be used in the next pipeline step."
   ]
  },
  {
   "cell_type": "code",
   "execution_count": 15,
   "id": "9a31c54b-b6e9-41b1-80f6-c06a1bae52ae",
   "metadata": {},
   "outputs": [],
   "source": [
    "%%skip not $SHOULD_CONVERT\n",
    "if not REFERENCE_UNET_PATH.exists():\n",
    "    class ReferenceUNetWrapper(torch.nn.Module):\n",
    "        def __init__(self, reference_unet):\n",
    "            super().__init__()\n",
    "            self.reference_unet = reference_unet\n",
    "        \n",
    "        def forward(self, sample, timestep, encoder_hidden_states):\n",
    "            return self.reference_unet(sample, timestep, encoder_hidden_states, return_dict=False)[1]\n",
    "            \n",
    "    sample = torch.zeros(2, 4, HEIGHT // 8, WIDTH // 8)\n",
    "    timestep = torch.tensor(0)\n",
    "    encoder_hidden_states = torch.zeros(2, 1, 768)\n",
    "    reference_unet.eval()\n",
    "    with torch.no_grad():\n",
    "        wrapper =  ReferenceUNetWrapper(reference_unet)\n",
    "        example_input = (sample, timestep, encoder_hidden_states)\n",
    "        ref_features_shapes = {k: v.shape for k, v in wrapper(*example_input).items()}\n",
    "        ov_reference_unet = ov.convert_model(\n",
    "            wrapper,\n",
    "            example_input=example_input,\n",
    "        )\n",
    "    ov.save_model(ov_reference_unet, REFERENCE_UNET_PATH)\n",
    "    del ov_reference_unet\n",
    "    del wrapper\n",
    "    cleanup_torchscript_cache()\n",
    "del reference_unet\n",
    "gc.collect()"
   ]
  },
  {
   "cell_type": "markdown",
   "id": "7ddd784b-c54b-45f4-9797-7b4634e90ec0",
   "metadata": {},
   "source": [
    "### Denoising UNet\n",
    "[back to top ⬆️](#Table-of-contents:)\n",
    "\n",
    "Denoising UNet is the main part of all diffusion pipelines. This model consumes the majority of memory, so we need to reduce its size as much as possible.\n",
    "\n",
    "Here we make all shapes static meaning that the size of the video will be constant.\n",
    "\n",
    "Also, we use the `ref_features` input with the same tensor shapes as output of [Reference UNet](#Reference-UNet) model on the previous step."
   ]
  },
  {
   "cell_type": "code",
   "execution_count": 16,
   "id": "e95a7dbd-6235-44f0-81d7-1898b51839c9",
   "metadata": {
    "editable": true,
    "slideshow": {
     "slide_type": ""
    },
    "tags": []
   },
   "outputs": [],
   "source": [
    "%%skip not $SHOULD_CONVERT\n",
    "if not DENOISING_UNET_PATH.exists():\n",
    "    class DenoisingUNetWrapper(torch.nn.Module):\n",
    "        def __init__(self, denoising_unet):\n",
    "            super().__init__()\n",
    "            self.denoising_unet = denoising_unet\n",
    "        \n",
    "        def forward(\n",
    "            self,\n",
    "            sample,\n",
    "            timestep,\n",
    "            encoder_hidden_states,\n",
    "            pose_cond_fea,\n",
    "            ref_features\n",
    "        ):\n",
    "            return self.denoising_unet(\n",
    "                sample,\n",
    "                timestep,\n",
    "                encoder_hidden_states,\n",
    "                ref_features,\n",
    "                pose_cond_fea=pose_cond_fea,\n",
    "                return_dict=False)\n",
    "\n",
    "    example_input = {\n",
    "        \"sample\": torch.zeros(2, 4, VIDEO_LENGTH, HEIGHT // 8, WIDTH // 8),\n",
    "        \"timestep\": torch.tensor(999),\n",
    "        \"encoder_hidden_states\": torch.zeros(2,1,768),\n",
    "        \"pose_cond_fea\": torch.zeros(2, 320, VIDEO_LENGTH, HEIGHT // 8, WIDTH // 8),\n",
    "        \"ref_features\": {k: torch.zeros(shape) for k, shape in ref_features_shapes.items()}\n",
    "    }\n",
    "    \n",
    "    denoising_unet.eval()\n",
    "    with torch.no_grad():\n",
    "        ov_denoising_unet = ov.convert_model(\n",
    "            DenoisingUNetWrapper(denoising_unet),\n",
    "            example_input=tuple(example_input.values())\n",
    "        )\n",
    "    ov_denoising_unet.inputs[0].get_node().set_partial_shape(ov.PartialShape((2, 4, VIDEO_LENGTH, HEIGHT // 8, WIDTH // 8)))\n",
    "    ov_denoising_unet.inputs[2].get_node().set_partial_shape(ov.PartialShape((2, 1, 768)))\n",
    "    ov_denoising_unet.inputs[3].get_node().set_partial_shape(ov.PartialShape((2, 320, VIDEO_LENGTH, HEIGHT // 8, WIDTH // 8)))\n",
    "    for ov_input, shape in zip(ov_denoising_unet.inputs[4:], ref_features_shapes.values()):\n",
    "        ov_input.get_node().set_partial_shape(ov.PartialShape(shape))\n",
    "        ov_input.get_node().set_element_type(ov.Type.f32)\n",
    "    ov_denoising_unet.validate_nodes_and_infer_types()\n",
    "    ov.save_model(ov_denoising_unet, DENOISING_UNET_PATH)\n",
    "    del ov_denoising_unet\n",
    "    cleanup_torchscript_cache()\n",
    "del denoising_unet\n",
    "gc.collect()"
   ]
  },
  {
   "cell_type": "markdown",
   "id": "06054cfc-690c-4aaf-a05c-7df9d7ad08d2",
   "metadata": {},
   "source": [
    "### Pose Guider\n",
    "[back to top ⬆️](#Table-of-contents:)\n",
    "\n",
    "To ensure pose controllability,  a lightweight pose guider is devised to efficiently integrate pose control signals into the denoising process."
   ]
  },
  {
   "cell_type": "code",
   "execution_count": 17,
   "id": "d4cf6c05-5326-49d0-9e4e-fa9b2081445f",
   "metadata": {
    "editable": true,
    "slideshow": {
     "slide_type": ""
    },
    "tags": []
   },
   "outputs": [],
   "source": [
    "%%skip not $SHOULD_CONVERT\n",
    "if not POSE_GUIDER_PATH.exists():\n",
    "    pose_guider.eval()\n",
    "    with torch.no_grad():\n",
    "        ov_pose_guider = ov.convert_model(pose_guider, example_input=torch.zeros(1, 3, VIDEO_LENGTH, HEIGHT, WIDTH))\n",
    "    ov.save_model(ov_pose_guider, POSE_GUIDER_PATH)\n",
    "    del ov_pose_guider\n",
    "    cleanup_torchscript_cache()\n",
    "del pose_guider\n",
    "gc.collect()"
   ]
  },
  {
   "cell_type": "markdown",
   "id": "c4db1630-95d4-4cea-927f-fe1d1c259597",
   "metadata": {},
   "source": [
    "### Image Encoder\n",
    "[back to top ⬆️](#Table-of-contents:)\n",
    "\n",
    "Pipeline uses CLIP image encoder to generate encoder hidden states required for both reference and denoising UNets."
   ]
  },
  {
   "cell_type": "code",
   "execution_count": 18,
   "id": "b7331636-b124-4038-9553-2292de72f13e",
   "metadata": {},
   "outputs": [],
   "source": [
    "%%skip not $SHOULD_CONVERT\n",
    "if not IMAGE_ENCODER_PATH.exists():\n",
    "    image_enc.eval()\n",
    "    with torch.no_grad():\n",
    "        ov_image_encoder = ov.convert_model(image_enc, example_input=torch.zeros(1, 3, 224, 224), input=(1, 3, 224, 224))\n",
    "    ov_image_encoder = nncf.compress_weights(ov_image_encoder)\n",
    "    ov.save_model(ov_image_encoder, IMAGE_ENCODER_PATH)\n",
    "    del ov_image_encoder\n",
    "    cleanup_torchscript_cache()\n",
    "del image_enc\n",
    "gc.collect()"
   ]
  },
  {
   "cell_type": "markdown",
   "id": "4e059780-29fc-4fe0-9376-c83573695fbe",
   "metadata": {},
   "source": [
    "## Inference\n",
    "[back to top ⬆️](#Table-of-contents:)\n",
    "\n",
    "We inherit from the original pipeline modifying the calls to our models to match OpenVINO format."
   ]
  },
  {
   "cell_type": "code",
   "execution_count": 19,
   "id": "35176d47-9a79-49dd-a61f-75892dba8d3d",
   "metadata": {},
   "outputs": [],
   "source": [
    "core = ov.Core()"
   ]
  },
  {
   "cell_type": "markdown",
   "id": "7a28383f-8249-4c24-bc4c-8dcb0f75461c",
   "metadata": {},
   "source": [
    "### Select inference device\n",
    "[back to top ⬆️](#Table-of-contents:)\n",
    "\n",
    "For starting work, please select inference device from dropdown list."
   ]
  },
  {
   "cell_type": "code",
   "execution_count": 20,
   "id": "6f43558f-f244-43b7-9c82-c47b5b0bce23",
   "metadata": {},
   "outputs": [
    {
     "data": {
      "application/vnd.jupyter.widget-view+json": {
       "model_id": "3e91c2a792224a4983cb2758f093b775",
       "version_major": 2,
       "version_minor": 0
      },
      "text/plain": [
       "Dropdown(description='Device:', index=5, options=('CPU', 'GPU.0', 'GPU.1', 'GPU.2', 'GPU.3', 'AUTO'), value='A…"
      ]
     },
     "execution_count": 20,
     "metadata": {},
     "output_type": "execute_result"
    }
   ],
   "source": [
    "device = ipywidgets.Dropdown(\n",
    "    options=core.available_devices + [\"AUTO\"],\n",
    "    value=\"AUTO\",\n",
    "    description=\"Device:\",\n",
    "    disabled=False\n",
    ")\n",
    "\n",
    "device"
   ]
  },
  {
   "cell_type": "code",
   "execution_count": 21,
   "id": "2c3cf752-cd75-4063-b56a-cade1894f926",
   "metadata": {},
   "outputs": [],
   "source": [
    "class OVPose2VideoPipeline(Pose2VideoPipeline):\n",
    "    def __init__(\n",
    "        self,\n",
    "        vae_encoder_path=VAE_ENCODER_PATH,\n",
    "        vae_decoder_path=VAE_DECODER_PATH,\n",
    "        image_encoder_path=IMAGE_ENCODER_PATH,\n",
    "        reference_unet_path=REFERENCE_UNET_PATH,\n",
    "        denoising_unet_path=DENOISING_UNET_PATH,\n",
    "        pose_guider_path=POSE_GUIDER_PATH,\n",
    "        device=device.value\n",
    "    ):\n",
    "        self.vae_encoder = core.compile_model(vae_encoder_path, device)\n",
    "        self.vae_decoder = core.compile_model(vae_decoder_path, device)\n",
    "        self.image_encoder = core.compile_model(image_encoder_path, device)\n",
    "        self.reference_unet = core.compile_model(reference_unet_path, device)\n",
    "        self.denoising_unet = core.compile_model(denoising_unet_path, device)\n",
    "        self.pose_guider = core.compile_model(pose_guider_path, device)\n",
    "        self.scheduler = DDIMScheduler(**OmegaConf.to_container(infer_config.noise_scheduler_kwargs))\n",
    "\n",
    "        self.vae_scale_factor = 8\n",
    "        self.clip_image_processor = CLIPImageProcessor()\n",
    "        self.ref_image_processor = VaeImageProcessor(do_convert_rgb=True)\n",
    "        self.cond_image_processor = VaeImageProcessor(do_convert_rgb=True, do_normalize=False)\n",
    "\n",
    "    def decode_latents(self, latents):\n",
    "        video_length = latents.shape[2]\n",
    "        latents = 1 / 0.18215 * latents\n",
    "        latents = rearrange(latents, \"b c f h w -> (b f) c h w\")\n",
    "        # video = self.vae.decode(latents).sample\n",
    "        video = []\n",
    "        for frame_idx in tqdm(range(latents.shape[0])):\n",
    "            video.append(torch.from_numpy(self.vae_decoder(latents[frame_idx : frame_idx + 1])[0]))\n",
    "        video = torch.cat(video)\n",
    "        video = rearrange(video, \"(b f) c h w -> b c f h w\", f=video_length)\n",
    "        video = (video / 2 + 0.5).clamp(0, 1)\n",
    "        # we always cast to float32 as this does not cause significant overhead and is compatible with bfloa16\n",
    "        video = video.cpu().float().numpy()\n",
    "        return video\n",
    "    \n",
    "    def __call__(\n",
    "        self,\n",
    "        ref_image,\n",
    "        pose_images,\n",
    "        width,\n",
    "        height,\n",
    "        video_length,\n",
    "        num_inference_steps=30,\n",
    "        guidance_scale=3.5,\n",
    "        num_images_per_prompt=1,\n",
    "        eta: float = 0.0,\n",
    "        generator: Optional[Union[torch.Generator, List[torch.Generator]]] = None,\n",
    "        output_type: Optional[str] = \"tensor\",\n",
    "        callback: Optional[Callable[[int, int, torch.FloatTensor], None]] = None,\n",
    "        callback_steps: Optional[int] = 1,\n",
    "        context_schedule=\"uniform\",\n",
    "        context_frames=24,\n",
    "        context_stride=1,\n",
    "        context_overlap=4,\n",
    "        context_batch_size=1,\n",
    "        interpolation_factor=1,\n",
    "        **kwargs,\n",
    "    ):\n",
    "        do_classifier_free_guidance = guidance_scale > 1.0\n",
    "\n",
    "        # Prepare timesteps\n",
    "        self.scheduler.set_timesteps(num_inference_steps)\n",
    "        timesteps = self.scheduler.timesteps\n",
    "\n",
    "        batch_size = 1\n",
    "\n",
    "        # Prepare clip image embeds\n",
    "        clip_image = self.clip_image_processor.preprocess(\n",
    "            ref_image.resize((224, 224)), return_tensors=\"pt\"\n",
    "        ).pixel_values\n",
    "        clip_image_embeds = self.image_encoder(clip_image)[\"image_embeds\"]\n",
    "        clip_image_embeds = torch.from_numpy(clip_image_embeds)\n",
    "        encoder_hidden_states = clip_image_embeds.unsqueeze(1)\n",
    "        uncond_encoder_hidden_states = torch.zeros_like(encoder_hidden_states)\n",
    "\n",
    "        if do_classifier_free_guidance:\n",
    "            encoder_hidden_states = torch.cat(\n",
    "                [uncond_encoder_hidden_states, encoder_hidden_states], dim=0\n",
    "            )\n",
    "\n",
    "        \n",
    "        latents = self.prepare_latents(\n",
    "            batch_size * num_images_per_prompt,\n",
    "            4,\n",
    "            width,\n",
    "            height,\n",
    "            video_length,\n",
    "            clip_image_embeds.dtype,\n",
    "            torch.device(\"cpu\"),\n",
    "            generator,\n",
    "        )\n",
    "\n",
    "        # Prepare extra step kwargs.\n",
    "        extra_step_kwargs = self.prepare_extra_step_kwargs(generator, eta)\n",
    "\n",
    "        # Prepare ref image latents\n",
    "        ref_image_tensor = self.ref_image_processor.preprocess(\n",
    "            ref_image, height=height, width=width\n",
    "        )  # (bs, c, width, height)\n",
    "        ref_image_latents = self.vae_encoder(ref_image_tensor)[0]\n",
    "        ref_image_latents = ref_image_latents * 0.18215  # (b, 4, h, w)\n",
    "        ref_image_latents = torch.from_numpy(ref_image_latents)\n",
    "\n",
    "        # Prepare a list of pose condition images\n",
    "        pose_cond_tensor_list = []\n",
    "        for pose_image in pose_images:\n",
    "            pose_cond_tensor = self.cond_image_processor.preprocess(\n",
    "                pose_image, height=height, width=width\n",
    "            )\n",
    "            pose_cond_tensor = pose_cond_tensor.unsqueeze(2)  # (bs, c, 1, h, w)\n",
    "            pose_cond_tensor_list.append(pose_cond_tensor)\n",
    "        pose_cond_tensor = torch.cat(pose_cond_tensor_list, dim=2)  # (bs, c, t, h, w)\n",
    "        pose_fea = self.pose_guider(pose_cond_tensor)[0]\n",
    "        pose_fea = torch.from_numpy(pose_fea)\n",
    "\n",
    "        context_scheduler = get_context_scheduler(context_schedule)\n",
    "\n",
    "        # denoising loop\n",
    "        num_warmup_steps = len(timesteps) - num_inference_steps * self.scheduler.order\n",
    "        with self.progress_bar(total=num_inference_steps) as progress_bar:\n",
    "            for i, t in enumerate(timesteps):\n",
    "                noise_pred = torch.zeros(\n",
    "                    (\n",
    "                        latents.shape[0] * (2 if do_classifier_free_guidance else 1),\n",
    "                        *latents.shape[1:],\n",
    "                    ),\n",
    "                    device=latents.device,\n",
    "                    dtype=latents.dtype,\n",
    "                )\n",
    "                counter = torch.zeros(\n",
    "                    (1, 1, latents.shape[2], 1, 1),\n",
    "                    device=latents.device,\n",
    "                    dtype=latents.dtype,\n",
    "                )\n",
    "\n",
    "                # 1. Forward reference image\n",
    "                if i == 0:\n",
    "                    ref_features = self.reference_unet((\n",
    "                        ref_image_latents.repeat(\n",
    "                            (2 if do_classifier_free_guidance else 1), 1, 1, 1\n",
    "                        ),\n",
    "                        torch.zeros_like(t),\n",
    "                        # t,\n",
    "                        encoder_hidden_states\n",
    "                    )).values()\n",
    "\n",
    "                context_queue = list(\n",
    "                    context_scheduler(\n",
    "                        0,\n",
    "                        num_inference_steps,\n",
    "                        latents.shape[2],\n",
    "                        context_frames,\n",
    "                        context_stride,\n",
    "                        0,\n",
    "                    )\n",
    "                )\n",
    "                num_context_batches = math.ceil(len(context_queue) / context_batch_size)\n",
    "\n",
    "                context_queue = list(\n",
    "                    context_scheduler(\n",
    "                        0,\n",
    "                        num_inference_steps,\n",
    "                        latents.shape[2],\n",
    "                        context_frames,\n",
    "                        context_stride,\n",
    "                        context_overlap,\n",
    "                    )\n",
    "                )\n",
    "\n",
    "                num_context_batches = math.ceil(len(context_queue) / context_batch_size)\n",
    "                global_context = []\n",
    "                for i in range(num_context_batches):\n",
    "                    global_context.append(\n",
    "                        context_queue[\n",
    "                            i * context_batch_size : (i + 1) * context_batch_size\n",
    "                        ]\n",
    "                    )\n",
    "\n",
    "                for context in global_context:\n",
    "                    # 3.1 expand the latents if we are doing classifier free guidance\n",
    "                    latent_model_input = (\n",
    "                        torch.cat([latents[:, :, c] for c in context])\n",
    "                        .repeat(2 if do_classifier_free_guidance else 1, 1, 1, 1, 1)\n",
    "                    )\n",
    "                    latent_model_input = self.scheduler.scale_model_input(\n",
    "                        latent_model_input, t\n",
    "                    )\n",
    "                    b, c, f, h, w = latent_model_input.shape\n",
    "                    latent_pose_input = torch.cat(\n",
    "                        [pose_fea[:, :, c] for c in context]\n",
    "                    ).repeat(2 if do_classifier_free_guidance else 1, 1, 1, 1, 1)\n",
    "\n",
    "                    pred = self.denoising_unet((\n",
    "                        latent_model_input,\n",
    "                        t,\n",
    "                        encoder_hidden_states[:b],\n",
    "                        latent_pose_input,\n",
    "                        *ref_features\n",
    "                    ))[0]\n",
    "\n",
    "                    for j, c in enumerate(context):\n",
    "                        noise_pred[:, :, c] = noise_pred[:, :, c] + pred\n",
    "                        counter[:, :, c] = counter[:, :, c] + 1\n",
    "\n",
    "                # perform guidance\n",
    "                if do_classifier_free_guidance:\n",
    "                    noise_pred_uncond, noise_pred_text = (noise_pred / counter).chunk(2)\n",
    "                    noise_pred = noise_pred_uncond + guidance_scale * (\n",
    "                        noise_pred_text - noise_pred_uncond\n",
    "                    )\n",
    "\n",
    "                latents = self.scheduler.step(\n",
    "                    noise_pred, t, latents, **extra_step_kwargs\n",
    "                ).prev_sample\n",
    "\n",
    "                if i == len(timesteps) - 1 or (\n",
    "                    (i + 1) > num_warmup_steps and (i + 1) % self.scheduler.order == 0\n",
    "                ):\n",
    "                    progress_bar.update()\n",
    "                    if callback is not None and i % callback_steps == 0:\n",
    "                        step_idx = i // getattr(self.scheduler, \"order\", 1)\n",
    "                        callback(step_idx, t, latents)\n",
    "\n",
    "        if interpolation_factor > 0:\n",
    "            latents = self.interpolate_latents(latents, interpolation_factor, latents.device)\n",
    "        # Post-processing\n",
    "        images = self.decode_latents(latents)  # (b, c, f, h, w)\n",
    "\n",
    "        # Convert to tensor\n",
    "        if output_type == \"tensor\":\n",
    "            images = torch.from_numpy(images)\n",
    "\n",
    "        return images"
   ]
  },
  {
   "cell_type": "code",
   "execution_count": 22,
   "id": "ca762050-692d-48ed-b31b-73130e712784",
   "metadata": {},
   "outputs": [],
   "source": [
    "pipe = OVPose2VideoPipeline()"
   ]
  },
  {
   "cell_type": "code",
   "execution_count": 23,
   "id": "9a34c91c-20f5-4e5f-aed2-f3dc3c226e79",
   "metadata": {},
   "outputs": [],
   "source": [
    "pose_images = read_frames(\"Moore-AnimateAnyone/configs/inference/pose_videos/anyone-video-2_kps.mp4\")\n",
    "src_fps = get_fps(\"Moore-AnimateAnyone/configs/inference/pose_videos/anyone-video-2_kps.mp4\")\n",
    "ref_image = Image.open(\"Moore-AnimateAnyone/configs/inference/ref_images/anyone-5.png\").convert(\"RGB\")\n",
    "pose_list = []\n",
    "for pose_image_pil in pose_images[:VIDEO_LENGTH]:\n",
    "    pose_list.append(pose_image_pil)"
   ]
  },
  {
   "cell_type": "code",
   "execution_count": 24,
   "id": "a6636887-eb52-494f-86ee-d3da25746c14",
   "metadata": {
    "editable": true,
    "slideshow": {
     "slide_type": ""
    },
    "tags": []
   },
   "outputs": [
    {
     "data": {
      "application/vnd.jupyter.widget-view+json": {
       "model_id": "de88200bdd334dafa57361beb0bcd027",
       "version_major": 2,
       "version_minor": 0
      },
      "text/plain": [
       "  0%|          | 0/30 [00:00<?, ?it/s]"
      ]
     },
     "metadata": {},
     "output_type": "display_data"
    },
    {
     "data": {
      "application/vnd.jupyter.widget-view+json": {
       "model_id": "c5f6b29521e24285822c4d072fb3f554",
       "version_major": 2,
       "version_minor": 0
      },
      "text/plain": [
       "  0%|          | 0/24 [00:00<?, ?it/s]"
      ]
     },
     "metadata": {},
     "output_type": "display_data"
    }
   ],
   "source": [
    "video = pipe(\n",
    "    ref_image,\n",
    "    pose_list,\n",
    "    width=WIDTH,\n",
    "    height=HEIGHT,\n",
    "    video_length=VIDEO_LENGTH,\n",
    ")"
   ]
  },
  {
   "cell_type": "markdown",
   "id": "b35f75ae-818e-483b-8e83-7e580d728eaf",
   "metadata": {},
   "source": [
    "## Video post-processing\n",
    "[back to top ⬆️](#Table-of-contents:)"
   ]
  },
  {
   "cell_type": "code",
   "execution_count": 25,
   "id": "86cff8b7-4723-4520-ad2e-bbca6f0c76d7",
   "metadata": {
    "editable": true,
    "slideshow": {
     "slide_type": ""
    },
    "tags": []
   },
   "outputs": [],
   "source": [
    "new_h, new_w = video.shape[-2:]\n",
    "pose_transform = transforms.Compose(\n",
    "    [transforms.Resize((new_h, new_w)), transforms.ToTensor()]\n",
    ")\n",
    "pose_tensor_list = []\n",
    "for pose_image_pil in pose_images[:VIDEO_LENGTH]:\n",
    "    pose_tensor_list.append(pose_transform(pose_image_pil))\n",
    "\n",
    "ref_image_tensor = pose_transform(ref_image)  # (c, h, w)\n",
    "ref_image_tensor = ref_image_tensor.unsqueeze(1).unsqueeze(0)  # (1, c, 1, h, w)\n",
    "ref_image_tensor = repeat(\n",
    "    ref_image_tensor, \"b c f h w -> b c (repeat f) h w\", repeat=VIDEO_LENGTH\n",
    ")\n",
    "pose_tensor = torch.stack(pose_tensor_list, dim=0)  # (f, c, h, w)\n",
    "pose_tensor = pose_tensor.transpose(0, 1)\n",
    "pose_tensor = pose_tensor.unsqueeze(0)\n",
    "video = torch.cat([ref_image_tensor, pose_tensor, video], dim=0)\n",
    "\n",
    "save_dir = \"./output\"\n",
    "if not os.path.exists(save_dir):\n",
    "    os.makedirs(save_dir, exist_ok=True)\n",
    "date_str = datetime.now().strftime(\"%Y%m%d\")\n",
    "time_str = datetime.now().strftime(\"%H%M\")\n",
    "out_path = os.path.join(save_dir, f\"{date_str}T{time_str}.mp4\")\n",
    "save_videos_grid(\n",
    "    video,\n",
    "    out_path,\n",
    "    n_rows=3,\n",
    "    fps=src_fps,\n",
    ")"
   ]
  },
  {
   "cell_type": "code",
   "execution_count": 26,
   "id": "08c82ebc-55b7-4899-a34d-dca208567125",
   "metadata": {
    "editable": true,
    "slideshow": {
     "slide_type": ""
    },
    "tags": []
   },
   "outputs": [
    {
     "data": {
      "text/html": [
       "<video controls  >\n",
       " <source src=\"data:video/mp4;base64,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\" type=\"video/mp4\">\n",
       " Your browser does not support the video tag.\n",
       " </video>"
      ],
      "text/plain": [
       "<IPython.core.display.Video object>"
      ]
     },
     "execution_count": 26,
     "metadata": {},
     "output_type": "execute_result"
    }
   ],
   "source": [
    "from IPython.display import Video\n",
    "Video(out_path, embed=True)"
   ]
  },
  {
   "cell_type": "markdown",
   "id": "7becfbd0-4cb2-41ee-a340-470011796add",
   "metadata": {},
   "source": [
    "## Interactive inference\n",
    "[back to top ⬆️](#Table-of-contents:)"
   ]
  },
  {
   "cell_type": "code",
   "execution_count": 27,
   "id": "2832a501-a8cb-4a44-a249-846f8524e3d6",
   "metadata": {},
   "outputs": [],
   "source": [
    "def generate(img, pose_vid, seed, guidance_scale, num_inference_steps, _=gr.Progress(track_tqdm=True)):\n",
    "    generator = torch.Generator().manual_seed(seed)\n",
    "    pose_list = read_frames(pose_vid)[:VIDEO_LENGTH]\n",
    "    video = pipe(\n",
    "        img,\n",
    "        pose_list,\n",
    "        width=WIDTH,\n",
    "        height=HEIGHT,\n",
    "        video_length=VIDEO_LENGTH,\n",
    "        generator=generator,\n",
    "        guidance_scale=guidance_scale,\n",
    "        num_inference_steps=num_inference_steps\n",
    "    )\n",
    "    new_h, new_w = video.shape[-2:]\n",
    "    pose_transform = transforms.Compose(\n",
    "        [transforms.Resize((new_h, new_w)), transforms.ToTensor()]\n",
    "    )\n",
    "    pose_tensor_list = []\n",
    "    for pose_image_pil in pose_list:\n",
    "        pose_tensor_list.append(pose_transform(pose_image_pil))\n",
    "    \n",
    "    ref_image_tensor = pose_transform(img)  # (c, h, w)\n",
    "    ref_image_tensor = ref_image_tensor.unsqueeze(1).unsqueeze(0)  # (1, c, 1, h, w)\n",
    "    ref_image_tensor = repeat(\n",
    "        ref_image_tensor, \"b c f h w -> b c (repeat f) h w\", repeat=VIDEO_LENGTH\n",
    "    )\n",
    "    pose_tensor = torch.stack(pose_tensor_list, dim=0)  # (f, c, h, w)\n",
    "    pose_tensor = pose_tensor.transpose(0, 1)\n",
    "    pose_tensor = pose_tensor.unsqueeze(0)\n",
    "    video = torch.cat([ref_image_tensor, pose_tensor, video], dim=0)\n",
    "    \n",
    "    save_dir = \"./output/gradio\"\n",
    "    if not os.path.exists(save_dir):\n",
    "        os.makedirs(save_dir, exist_ok=True)\n",
    "    date_str = datetime.now().strftime(\"%Y%m%d\")\n",
    "    time_str = datetime.now().strftime(\"%H%M\")\n",
    "    out_path = os.path.join(save_dir, f\"{date_str}T{time_str}.mp4\")\n",
    "    save_videos_grid(\n",
    "        video,\n",
    "        out_path,\n",
    "        n_rows=3,\n",
    "        fps=12,\n",
    "    )\n",
    "    return out_path\n",
    "    \n",
    "\n",
    "demo = gr.Interface(\n",
    "    generate,\n",
    "    [\n",
    "        gr.Image(label=\"Reference Image\", type=\"pil\"),\n",
    "        gr.Video(label=\"Pose video\"),\n",
    "        gr.Slider(label=\"Seed\", value=42, minimum=np.iinfo(np.int32).min, maximum=np.iinfo(np.int32).max),\n",
    "        gr.Slider(label=\"Guidance scale\", value=3.5, minimum=1.1, maximum=10),\n",
    "        gr.Slider(label=\"Number of inference steps\", value=30, minimum=15, maximum=100)\n",
    "    ],\n",
    "    \"video\",\n",
    "    examples=[\n",
    "        [\"Moore-AnimateAnyone/configs/inference/ref_images/anyone-2.png\", \"Moore-AnimateAnyone/configs/inference/pose_videos/anyone-video-2_kps.mp4\"],\n",
    "        [\"Moore-AnimateAnyone/configs/inference/ref_images/anyone-10.png\", \"Moore-AnimateAnyone/configs/inference/pose_videos/anyone-video-1_kps.mp4\"],\n",
    "        [\"Moore-AnimateAnyone/configs/inference/ref_images/anyone-11.png\", \"Moore-AnimateAnyone/configs/inference/pose_videos/anyone-video-1_kps.mp4\"],\n",
    "        [\"Moore-AnimateAnyone/configs/inference/ref_images/anyone-3.png\", \"Moore-AnimateAnyone/configs/inference/pose_videos/anyone-video-2_kps.mp4\"],\n",
    "        [\"Moore-AnimateAnyone/configs/inference/ref_images/anyone-5.png\", \"Moore-AnimateAnyone/configs/inference/pose_videos/anyone-video-2_kps.mp4\"]\n",
    "    ],\n",
    "    allow_flagging=\"never\"\n",
    ")\n",
    "try:\n",
    "    demo.queue().launch(debug=True)\n",
    "except Exception:\n",
    "    demo.queue().launch(debug=True, share=True)\n",
    "# if you are launching remotely, specify server_name and server_port\n",
    "# demo.launch(server_name='your server name', server_port='server port in int')\n",
    "# Read more in the docs: https://gradio.app/docs/\""
   ]
  }
 ],
 "metadata": {
  "kernelspec": {
   "display_name": "Python 3 (ipykernel)",
   "language": "python",
   "name": "python3"
  },
  "language_info": {
   "codemirror_mode": {
    "name": "ipython",
    "version": 3
   },
   "file_extension": ".py",
   "mimetype": "text/x-python",
   "name": "python",
   "nbconvert_exporter": "python",
   "pygments_lexer": "ipython3",
   "version": "3.9.5"
  },
  "openvino_notebooks": {
   "imageUrl": "https://github.com/openvinotoolkit/openvino_notebooks/raw/master/notebooks/animate-anyone/animate-anyone.gif",
   "tags": {
    "categories": [
     "Model Demos",
     "AI Trends"
    ],
    "libraries": [],
    "other": [],
    "tasks": [
     "Image-to-Video"
    ]
   }
  }
 },
 "nbformat": 4,
 "nbformat_minor": 5
}
